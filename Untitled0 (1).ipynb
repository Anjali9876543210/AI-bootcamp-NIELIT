{
  "nbformat": 4,
  "nbformat_minor": 0,
  "metadata": {
    "colab": {
      "provenance": []
    },
    "kernelspec": {
      "name": "python3",
      "display_name": "Python 3"
    },
    "language_info": {
      "name": "python"
    }
  },
  "cells": [
    {
      "cell_type": "code",
      "execution_count": 1,
      "metadata": {
        "colab": {
          "base_uri": "https://localhost:8080/"
        },
        "id": "wHDgM8vCxmDI",
        "outputId": "a830f162-214b-441d-aa45-2fab78984f98"
      },
      "outputs": [
        {
          "output_type": "stream",
          "name": "stdout",
          "text": [
            "Hello,World!\n"
          ]
        }
      ],
      "source": [
        "print(\"Hello,World!\")"
      ]
    },
    {
      "cell_type": "code",
      "source": [
        "a=8\n",
        "b=6.5\n",
        "#Addition\n",
        "c=a + b\n",
        "print(\"The sum of two number is\" ,c)"
      ],
      "metadata": {
        "colab": {
          "base_uri": "https://localhost:8080/"
        },
        "id": "bDKEswSuyQYd",
        "outputId": "ac004640-3405-4825-a47e-b9c492a63eed"
      },
      "execution_count": 2,
      "outputs": [
        {
          "output_type": "stream",
          "name": "stdout",
          "text": [
            "The sum of two number is 14.5\n"
          ]
        }
      ]
    },
    {
      "cell_type": "code",
      "source": [
        "s=float (input(\"Enter first number:\"))\n",
        "r=float (input(\"Enter second number:\"))\n",
        "d=s*r\n",
        "print(\"The product of two number is\",d)"
      ],
      "metadata": {
        "colab": {
          "base_uri": "https://localhost:8080/"
        },
        "id": "-IAChY7P1ojg",
        "outputId": "9e2c5771-6ca3-4ac0-f360-0f196a8f8a7a"
      },
      "execution_count": 4,
      "outputs": [
        {
          "output_type": "stream",
          "name": "stdout",
          "text": [
            "Enter first number:45\n",
            "Enter second number:66\n",
            "The product of two number is 2970.0\n"
          ]
        }
      ]
    }
  ]
}